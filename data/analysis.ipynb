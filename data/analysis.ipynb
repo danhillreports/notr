{
 "cells": [
  {
   "cell_type": "code",
   "execution_count": 1,
   "metadata": {
    "collapsed": true
   },
   "outputs": [],
   "source": [
    "import numpy as np\n",
    "import pandas as pd\n",
    "import sqlite3"
   ]
  },
  {
   "cell_type": "code",
   "execution_count": 2,
   "metadata": {
    "collapsed": false
   },
   "outputs": [],
   "source": [
    "con = sqlite3.connect(\"dps_data.db\")\n",
    "con.text_factory = str\n",
    "\n",
    "sia = pd.read_sql(\"SELECT * from sia;\", con)\n",
    "stops = pd.read_sql(\"SELECT * from stops;\", con)"
   ]
  },
  {
   "cell_type": "code",
   "execution_count": 3,
   "metadata": {
    "collapsed": false
   },
   "outputs": [
    {
     "name": "stdout",
     "output_type": "stream",
     "text": [
      "0.0012925761366\n"
     ]
    }
   ],
   "source": [
    "STATUS_CHECK = stops[stops[\"immigration_status_check\"] == \"Y\"]\n",
    "\n",
    "NUM_STOPS = float(len(stops))\n",
    "NUM_STATUS_CHECK_STOPS = float(len(STATUS_CHECK))\n",
    "print NUM_STATUS_CHECK_STOPS / NUM_STOPS"
   ]
  },
  {
   "cell_type": "code",
   "execution_count": 4,
   "metadata": {
    "collapsed": false
   },
   "outputs": [
    {
     "name": "stdout",
     "output_type": "stream",
     "text": [
      "Status check vehicle impounded: 41.2378303199%\n",
      "Total: 1.85868493412%\n"
     ]
    }
   ],
   "source": [
    "print \"Status check vehicle impounded: {}%\".format(\n",
    "            (len(STATUS_CHECK[STATUS_CHECK[\"vehicle_impounded\"] == \"Y\"])\n",
    "                 / NUM_STATUS_CHECK_STOPS)\n",
    "                 * 100)\n",
    "print \"Total: {}%\".format(\n",
    "            (len(stops[stops[\"vehicle_impounded\"] == \"Y\"])\n",
    "                / NUM_STOPS)\n",
    "                * 100)"
   ]
  },
  {
   "cell_type": "code",
   "execution_count": 5,
   "metadata": {
    "collapsed": false
   },
   "outputs": [
    {
     "name": "stdout",
     "output_type": "stream",
     "text": [
      "Status check vehicle search: 64.9513212796%\n",
      "Total: 4.14900760175%\n"
     ]
    }
   ],
   "source": [
    "print \"Status check vehicle search: {}%\".format(\n",
    "            (len(STATUS_CHECK[STATUS_CHECK[\"search_of_vehicle\"] == \"Y\"])\n",
    "                 / NUM_STATUS_CHECK_STOPS)\n",
    "                 * 100)\n",
    "print \"Total: {}%\".format(\n",
    "            (len(stops[stops[\"search_of_vehicle\"] == \"Y\"])\n",
    "                 / NUM_STOPS)\n",
    "                 * 100)"
   ]
  },
  {
   "cell_type": "code",
   "execution_count": null,
   "metadata": {
    "collapsed": true
   },
   "outputs": [],
   "source": []
  }
 ],
 "metadata": {
  "kernelspec": {
   "display_name": "Python 2",
   "language": "python",
   "name": "python2"
  },
  "language_info": {
   "codemirror_mode": {
    "name": "ipython",
    "version": 2
   },
   "file_extension": ".py",
   "mimetype": "text/x-python",
   "name": "python",
   "nbconvert_exporter": "python",
   "pygments_lexer": "ipython2",
   "version": "2.7.5"
  }
 },
 "nbformat": 4,
 "nbformat_minor": 0
}
